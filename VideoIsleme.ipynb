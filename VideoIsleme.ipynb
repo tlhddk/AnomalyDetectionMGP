{
 "cells": [
  {
   "cell_type": "code",
   "execution_count": 1,
   "metadata": {},
   "outputs": [],
   "source": [
    "import os\n",
    "import numpy as np\n",
    "import cv2\n",
    "import matplotlib.pyplot as plt\n",
    "import time"
   ]
  },
  {
   "cell_type": "code",
   "execution_count": 15,
   "metadata": {},
   "outputs": [],
   "source": [
    "#Görüntü içe aktarımı\n",
    "path = './video_ucus_3.mp4'\n",
    "cap = cv2.VideoCapture(path)\n",
    "frame_number = 1\n",
    "while True:\n",
    "    ret, frame = cap.read()\n",
    "    if ret:\n",
    "        frame_h = cv2.cvtColor(frame,cv2.COLOR_BGR2HSV)\n",
    "        \n",
    "        # Dış Bölge Gaussian Blur\n",
    "        img_g = cv2.GaussianBlur(frame_h,ksize=(7,7),sigmaX=1)\n",
    "        \n",
    "        # Dış Bölge Yeşil Maskeleme\n",
    "        \n",
    "        greenLower=(30,100,0)\n",
    "        greenUpper=(70,255,255)\n",
    "        frame_m = cv2.inRange(frame_h,greenLower,greenUpper)\n",
    "        \n",
    "        \n",
    "        \n",
    "        # Dış Bölge Erozyon ve Genişletme\n",
    "         \n",
    "        frame_masked = cv2.erode(frame_m,None,iterations=1)\n",
    "        frame_masked = cv2.dilate(frame_masked,None,iterations=2)\n",
    "        \n",
    "        \n",
    "        \n",
    "        # Dış Bölge işaretleme\n",
    "        (frame_con,contours,hierarcy) = cv2.findContours(frame_masked.copy(),cv2.RETR_EXTERNAL,cv2.CHAIN_APPROX_SIMPLE)\n",
    "        if len(contours)>0:\n",
    "            \n",
    "            c = max(contours,key=cv2.contourArea)\n",
    "            \n",
    "            \n",
    "            rect = cv2.minAreaRect(c)\n",
    "            \n",
    "            ((x,y),(w,h),rotation) = rect\n",
    "            \n",
    "            box = cv2.boxPoints(rect)\n",
    "            box = np.int64(box)\n",
    "            \n",
    "            M = cv2.moments(c)\n",
    "            center = (int(M['m10']/M['m00']),int(M['m01']/M['m00']))\n",
    "            \n",
    "            cv2.drawContours(frame, [box], 0, (0,255,255),2)\n",
    "        \n",
    "        #frame_hs = frame[box[1,0]:box[3,0],box[1,1],]\n",
    "        \n",
    "        # İç Bölge Siyah Maske\n",
    "        \n",
    "        blackLower=(50,0,0)\n",
    "        blackUpper=(100,60,60)\n",
    "        frame_m_s = cv2.inRange(frame_h,blackLower,blackUpper)\n",
    "        \n",
    "        # İç bölge erozyon ve genişletme\n",
    "        \n",
    "        #frame_s_masked = cv2.erode(frame_m_s,None,iterations=1)\n",
    "        frame_s_masked = cv2.dilate(frame_m_s,None,iterations=3)\n",
    "        \n",
    "        \n",
    "        (frame_con,s_contours,s_hierarcy) = cv2.findContours(frame_s_masked.copy(),cv2.RETR_EXTERNAL,cv2.CHAIN_APPROX_SIMPLE)\n",
    "        if len(s_contours)>0:\n",
    "            \n",
    "            c_s = max(s_contours,key=cv2.contourArea)\n",
    "            \n",
    "            rect_s = cv2.minAreaRect(c_s)\n",
    "            \n",
    "            ((x_s,y_s),(w_s,h_s),rotation_s) = rect_s\n",
    "            \n",
    "            box_s = cv2.boxPoints(rect_s)\n",
    "            box_s = np.int64(box_s)\n",
    "            \n",
    "            M_s = cv2.moments(c_s)\n",
    "            center_s = (int(M_s['m10']/M_s['m00']),int(M_s['m01']/M_s['m00']))\n",
    "            \n",
    "            cv2.drawContours(frame, [box_s], 0, (255,0,0),1)\n",
    "            \n",
    "            area_inner = cv2.contourArea(c_s)\n",
    "            area_outer = cv2.contourArea(c)-area_inner\n",
    "       \n",
    "        cv2.putText(frame, ' | Dis Alan: {}  | Ic Alan: {} | {}'.format(area_outer,area_inner,frame_number),(10,40),cv2.FONT_HERSHEY_TRIPLEX,0.5,(255,255,225),1)\n",
    "        cv2.circle(frame,center_s,1,(100,100,0),2)\n",
    "        cv2.imshow('Tespit',frame)\n",
    "        \n",
    "        cv2.imshow('Tespit_G',frame_masked)\n",
    "        cv2.imshow('Tespit_S',frame_s_masked)\n",
    "        time.sleep(0.2)\n",
    "        \n",
    "        frame_number = frame_number + 1\n",
    "        \n",
    "        key = cv2.waitKey(1) & 0xFF\n",
    "        if key == ord('q') : break\n",
    "    else : break\n",
    "cap.release()\n",
    "cv2.destroyAllWindows()       \n",
    "        \n",
    "                \n",
    "        "
   ]
  },
  {
   "cell_type": "code",
   "execution_count": 16,
   "metadata": {},
   "outputs": [
    {
     "data": {
      "text/plain": [
       "(171, 71)"
      ]
     },
     "execution_count": 16,
     "metadata": {},
     "output_type": "execute_result"
    }
   ],
   "source": [
    "box[1,0],box[1,1]"
   ]
  },
  {
   "cell_type": "code",
   "execution_count": 17,
   "metadata": {},
   "outputs": [
    {
     "data": {
      "text/plain": [
       "(202, 102)"
      ]
     },
     "execution_count": 17,
     "metadata": {},
     "output_type": "execute_result"
    }
   ],
   "source": [
    "box[3,0],box[3,1]"
   ]
  },
  {
   "cell_type": "code",
   "execution_count": 18,
   "metadata": {},
   "outputs": [
    {
     "data": {
      "text/plain": [
       "array([[[ 27,  61,  84],\n",
       "        [ 27,  63,  81],\n",
       "        [ 27,  67,  76],\n",
       "        ...,\n",
       "        [ 13,  72, 103],\n",
       "        [ 13,  73, 102],\n",
       "        [ 13,  73, 101]],\n",
       "\n",
       "       [[ 27,  61,  84],\n",
       "        [ 27,  63,  81],\n",
       "        [ 27,  67,  76],\n",
       "        ...,\n",
       "        [ 13,  69, 107],\n",
       "        [ 13,  70, 106],\n",
       "        [ 13,  70, 105]],\n",
       "\n",
       "       [[ 27,  61,  84],\n",
       "        [ 27,  63,  81],\n",
       "        [ 27,  67,  76],\n",
       "        ...,\n",
       "        [ 13,  67, 110],\n",
       "        [ 13,  67, 110],\n",
       "        [ 13,  68, 108]],\n",
       "\n",
       "       ...,\n",
       "\n",
       "       [[ 18,  74,  96],\n",
       "        [ 18,  74,  96],\n",
       "        [ 18,  75,  95],\n",
       "        ...,\n",
       "        [  9,  46, 160],\n",
       "        [  9,  46, 161],\n",
       "        [  9,  45, 164]],\n",
       "\n",
       "       [[ 19,  81,  95],\n",
       "        [ 19,  80,  96],\n",
       "        [ 19,  80,  96],\n",
       "        ...,\n",
       "        [ 13,  45, 163],\n",
       "        [ 13,  45, 164],\n",
       "        [ 13,  44, 168]],\n",
       "\n",
       "       [[ 19,  81,  94],\n",
       "        [ 19,  81,  95],\n",
       "        [ 19,  81,  94],\n",
       "        ...,\n",
       "        [ 13,  42, 176],\n",
       "        [ 13,  42, 176],\n",
       "        [ 13,  42, 177]]], dtype=uint8)"
      ]
     },
     "execution_count": 18,
     "metadata": {},
     "output_type": "execute_result"
    }
   ],
   "source": [
    "frame_h"
   ]
  },
  {
   "cell_type": "code",
   "execution_count": 19,
   "metadata": {},
   "outputs": [
    {
     "data": {
      "text/plain": [
       "array([[[ 14,  41,  69],\n",
       "        [ 47,  50,  72],\n",
       "        [ 47,  43,  83],\n",
       "        ...,\n",
       "        [ 32,  63,  77],\n",
       "        [ 14,  70,  80],\n",
       "        [ 14,  73,  77]],\n",
       "\n",
       "       [[ 21,  50,  71],\n",
       "        [ 69, 153,  75],\n",
       "        [ 69, 182,  63],\n",
       "        ...,\n",
       "        [ 67, 195,  77],\n",
       "        [ 65, 184,  72],\n",
       "        [ 65, 179,  74]],\n",
       "\n",
       "       [[ 21,  50,  72],\n",
       "        [ 69, 151,  76],\n",
       "        [ 69, 179,  64],\n",
       "        ...,\n",
       "        [ 67, 203,  74],\n",
       "        [ 65, 182,  73],\n",
       "        [ 65, 172,  77]],\n",
       "\n",
       "       ...,\n",
       "\n",
       "       [[ 16,  97,  79],\n",
       "        [ 68, 205,  72],\n",
       "        [ 68, 214,  69],\n",
       "        ...,\n",
       "        [ 64, 197,  75],\n",
       "        [ 58, 174,  82],\n",
       "        [ 58, 154,  93]],\n",
       "\n",
       "       [[ 11, 103,  84],\n",
       "        [ 65, 173,  68],\n",
       "        [ 65, 183,  64],\n",
       "        ...,\n",
       "        [ 61, 168,  73],\n",
       "        [ 57, 178,  70],\n",
       "        [ 57, 140,  89]],\n",
       "\n",
       "       [[ 11,  99,  88],\n",
       "        [ 65, 154,  76],\n",
       "        [ 65, 152,  77],\n",
       "        ...,\n",
       "        [ 61, 147,  83],\n",
       "        [ 57, 171,  73],\n",
       "        [ 57, 136,  92]]], dtype=uint8)"
      ]
     },
     "execution_count": 19,
     "metadata": {},
     "output_type": "execute_result"
    }
   ],
   "source": [
    "frame_h[box[1,1]:box[3,1],box[1,0]:box[3,0],:]"
   ]
  },
  {
   "cell_type": "code",
   "execution_count": 20,
   "metadata": {},
   "outputs": [],
   "source": [
    "frame_hs = frame_h[box[1,1]:box[3,1],box[1,0]:box[3,0],:]"
   ]
  },
  {
   "cell_type": "code",
   "execution_count": 21,
   "metadata": {},
   "outputs": [
    {
     "data": {
      "text/plain": [
       "<matplotlib.image.AxesImage at 0x227d5c827c8>"
      ]
     },
     "execution_count": 21,
     "metadata": {},
     "output_type": "execute_result"
    },
    {
     "data": {
      "image/png": "[encoded data removed]",
      "text/plain": [
       "<Figure size 432x288 with 1 Axes>"
      ]
     },
     "metadata": {
      "needs_background": "light"
     },
     "output_type": "display_data"
    }
   ],
   "source": [
    "plt.imshow(frame_hs)"
   ]
  },
  {
   "cell_type": "code",
   "execution_count": 52,
   "metadata": {},
   "outputs": [],
   "source": [
    "frame_hsre = cv2.resize(frame_hs,(100,100))"
   ]
  },
  {
   "cell_type": "code",
   "execution_count": 53,
   "metadata": {},
   "outputs": [
    {
     "data": {
      "text/plain": [
       "<matplotlib.image.AxesImage at 0x2d77a5fab88>"
      ]
     },
     "execution_count": 53,
     "metadata": {},
     "output_type": "execute_result"
    },
    {
     "data": {
      "image/png": "[encoded data removed]",
      "text/plain": [
       "<Figure size 432x288 with 1 Axes>"
      ]
     },
     "metadata": {
      "needs_background": "light"
     },
     "output_type": "display_data"
    }
   ],
   "source": [
    "plt.imshow(frame_hsre)"
   ]
  },
  {
   "cell_type": "code",
   "execution_count": null,
   "metadata": {},
   "outputs": [],
   "source": [
    "cv2.GaussianBlur(frame_hsre,)"
   ]
  }
 ],
 "metadata": {
  "kernelspec": {
   "display_name": "Python 3",
   "language": "python",
   "name": "python3"
  },
  "language_info": {
   "codemirror_mode": {
    "name": "ipython",
    "version": 3
   },
   "file_extension": ".py",
   "mimetype": "text/x-python",
   "name": "python",
   "nbconvert_exporter": "python",
   "pygments_lexer": "ipython3",
   "version": "3.7.6"
  }
 },
 "nbformat": 4,
 "nbformat_minor": 4
}
